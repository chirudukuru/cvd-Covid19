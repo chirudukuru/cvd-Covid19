{
  "nbformat": 4,
  "nbformat_minor": 0,
  "metadata": {
    "colab": {
      "name": "CVD-NAive bayes.ipynb",
      "provenance": [],
      "collapsed_sections": [],
      "authorship_tag": "ABX9TyMNPBghAajLYxEKfnv/FpZ6",
      "include_colab_link": true
    },
    "kernelspec": {
      "name": "python3",
      "display_name": "Python 3"
    }
  },
  "cells": [
    {
      "cell_type": "markdown",
      "metadata": {
        "id": "view-in-github",
        "colab_type": "text"
      },
      "source": [
        "<a href=\"https://colab.research.google.com/github/chirudukuru/cvd-Covid19/blob/main/CVD_NAive_bayes.ipynb\" target=\"_parent\"><img src=\"https://colab.research.google.com/assets/colab-badge.svg\" alt=\"Open In Colab\"/></a>"
      ]
    },
    {
      "cell_type": "code",
      "metadata": {
        "id": "HF4R56zGHhKt"
      },
      "source": [
        "import numpy as np\r\n",
        "import matplotlib.pyplot as plt\r\n",
        "import pandas as pd"
      ],
      "execution_count": null,
      "outputs": []
    },
    {
      "cell_type": "code",
      "metadata": {
        "colab": {
          "resources": {
            "http://localhost:8080/nbextensions/google.colab/files.js": {
              "data": "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",
              "ok": true,
              "headers": [
                [
                  "content-type",
                  "application/javascript"
                ]
              ],
              "status": 200,
              "status_text": ""
            }
          },
          "base_uri": "https://localhost:8080/",
          "height": 73
        },
        "id": "OOeW-I-OHh8N",
        "outputId": "518317d6-4958-477a-f831-71182aee9bba"
      },
      "source": [
        "from google.colab import files\r\n",
        "uploaded = files.upload()"
      ],
      "execution_count": null,
      "outputs": [
        {
          "output_type": "display_data",
          "data": {
            "text/html": [
              "\n",
              "     <input type=\"file\" id=\"files-8638f787-81a7-430e-82e2-0c3c6e4639e2\" name=\"files[]\" multiple disabled\n",
              "        style=\"border:none\" />\n",
              "     <output id=\"result-8638f787-81a7-430e-82e2-0c3c6e4639e2\">\n",
              "      Upload widget is only available when the cell has been executed in the\n",
              "      current browser session. Please rerun this cell to enable.\n",
              "      </output>\n",
              "      <script src=\"/nbextensions/google.colab/files.js\"></script> "
            ],
            "text/plain": [
              "<IPython.core.display.HTML object>"
            ]
          },
          "metadata": {
            "tags": []
          }
        },
        {
          "output_type": "stream",
          "text": [
            "Saving cardiovascularcovid.csv to cardiovascularcovid.csv\n"
          ],
          "name": "stdout"
        }
      ]
    },
    {
      "cell_type": "code",
      "metadata": {
        "id": "D3Mz1mAUHmrS"
      },
      "source": [
        "import io\r\n",
        "df = pd.read_csv(io.BytesIO(uploaded['cardiovascularcovid.csv']))"
      ],
      "execution_count": null,
      "outputs": []
    },
    {
      "cell_type": "code",
      "metadata": {
        "id": "ZGJBjNb_HwIt"
      },
      "source": [
        "X = df.iloc[:, :-1].values\r\n",
        "y = df.iloc[:, -1].values"
      ],
      "execution_count": null,
      "outputs": []
    },
    {
      "cell_type": "code",
      "metadata": {
        "id": "nq1J0JrBH0uH"
      },
      "source": [
        "from sklearn.model_selection import train_test_split\r\n",
        "X_train, X_test, y_train, y_test = train_test_split(X, y, test_size = 0.25, random_state = 0)"
      ],
      "execution_count": null,
      "outputs": []
    },
    {
      "cell_type": "code",
      "metadata": {
        "colab": {
          "base_uri": "https://localhost:8080/"
        },
        "id": "Mx5cCx44H8Cs",
        "outputId": "715de686-9826-441a-c9c5-09936e6a3c96"
      },
      "source": [
        "print(X_train)"
      ],
      "execution_count": null,
      "outputs": [
        {
          "output_type": "stream",
          "text": [
            "[['Patient 36' 49 1 1 38.6 1 0 1 99 80 16 2 0 99 21 121 78 0 0]\n",
            " ['Patient 35' 56 0 1 39.2 1 0 0 79 92 24 2 1 79 21 151 72 1 7]\n",
            " ['Patient 8' 51 1 1 39.4 1 0 1 96 124 24 3 0 96 21 130 75 1 0]\n",
            " ['Patient 15' 62 1 1 38.3 1 0 1 94 87 20 2 0 94 21 100 60 1 0]\n",
            " ['Patient 47' 56 1 0 37.5 0 1 1 100 90 14 3 0 100 21 190 95 1 0]\n",
            " ['Patient 19' 66 1 1 38.5 0 1 0 98 96 14 1 1 98 21 140 80 0 2]\n",
            " ['Patient 49' 37 0 0 36.3 1 0 0 97 70 8 1 0 97 21 112 75 1 0]\n",
            " ['Patient 43' 60 1 1 37.5 1 0 0 98 106 14 1 0 98 21 130 70 0 0]\n",
            " ['Patient 16' 69 1 1 37.3 1 0 0 84 90 22 1 0 84 21 105 60 1 0]\n",
            " ['Patient 32' 31 0 1 36.7 1 0 1 100 97 24 1 0 100 21 118 78 0 0]\n",
            " ['Patient 31' 54 1 1 38.3 1 0 0 97 108 20 1 0 97 21 122 75 0 0]\n",
            " ['Patient 17' 60 1 0 37.0 0 1 0 96 69 14 1 0 96 21 92 64 0 0]\n",
            " ['Patient 44' 48 0 0 36.5 1 1 1 97 75 22 2 0 89 21 145 83 0 0]\n",
            " ['Patient 21' 55 1 1 37.5 1 0 1 84 90 20 2 1 84 50 107 75 1 3]\n",
            " ['Patient 51' 64 0 1 38.0 1 0 0 92 95 16 2 1 92 21 139 70 1 6]\n",
            " ['Patient 9' 58 1 1 35.5 1 0 0 95 117 43 3 1 95 60 177 80 0 1]\n",
            " ['Patient 14' 50 0 0 38.0 0 1 0 94 71 23 2 1 92 21 117 69 0 1]\n",
            " ['Patient 26' 64 1 1 37.1 1 1 0 95 96 22 1 0 95 21 132 83 1 0]\n",
            " ['Patient 6' 49 1 1 38.1 1 0 0 93 100 22 3 1 93 35 120 70 1 6]\n",
            " ['Patient 18' 32 0 1 39.5 1 1 0 95 112 22 3 1 95 21 130 70 1 5]\n",
            " ['Patient 38' 42 0 1 36.8 1 1 0 98 78 14 1 1 98 21 136 86 0 2]\n",
            " ['Patient 41' 60 0 0 36.5 1 0 0 95 68 16 3 0 95 21 130 90 0 0]\n",
            " ['Patient 2' 52 1 1 37.8 0 0 0 99 115 18 3 1 99 24 70 40 1 4]\n",
            " ['Patient 13' 46 0 1 39.0 1 0 0 96 113 24 3 1 96 21 130 79 1 7]\n",
            " ['Patient 39' 58 1 1 37.0 1 0 0 99 84 14 1 1 99 21 141 84 1 6]\n",
            " ['Patient 25' 53 1 1 37.8 1 0 0 92 110 16 3 1 92 35 125 91 1 5]\n",
            " ['Patient 7' 44 1 0 36.7 0 0 0 98 78 18 1 0 98 21 135 90 0 0]\n",
            " ['Patient 24' 38 0 1 39.4 1 1 1 93 100 20 3 1 93 28 97 63 1 9]\n",
            " ['Patient 37' 56 1 1 38.0 1 0 0 95 97 16 3 0 95 21 134 80 1 0]\n",
            " ['Patient 22' 75 0 1 35.7 0 0 0 97 77 16 1 0 97 21 126 67 1 0]\n",
            " ['Patient 20' 55 1 1 37.3 1 0 0 95 102 18 1 0 95 28 146 99 1 0]\n",
            " ['Patient 10' 67 1 1 37.8 1 0 0 90 90 16 2 0 90 21 141 74 0 0]\n",
            " ['Patient 40' 47 0 0 38.5 1 0 0 96 73 23 1 1 94 21 119 67 0 3]\n",
            " ['Patient 50' 31 0 0 37.5 1 1 0 98 65 5 1 0 94 21 156 82 0 0]\n",
            " ['Patient 4' 55 1 1 39.5 1 0 0 96 89 18 2 1 96 21 110 80 1 1]\n",
            " ['Patient 1 ' 59 1 1 36.2 1 1 1 95 80 16 1 0 95 21 120 70 0 0]\n",
            " ['Patient 48' 41 0 1 37.7 0 1 0 97 68 17 3 1 97 21 142 88 1 3]\n",
            " ['Patient 45' 56 0 0 37.5 1 0 1 94 68 18 3 0 91 21 128 68 0 0]]\n"
          ],
          "name": "stdout"
        }
      ]
    },
    {
      "cell_type": "code",
      "metadata": {
        "colab": {
          "base_uri": "https://localhost:8080/"
        },
        "id": "PIpYIhflH_ut",
        "outputId": "07c7663d-8399-4bcf-8813-1f8f7347b65d"
      },
      "source": [
        "print(y_train)"
      ],
      "execution_count": null,
      "outputs": [
        {
          "output_type": "stream",
          "text": [
            "[1 2 1 1 1 3 1 1 3 1 1 1 1 1 2 3 1 1 1 1 3 1 1 1 2 3 1 2 1 1 1 1 1 1 1 1 1\n",
            " 1]\n"
          ],
          "name": "stdout"
        }
      ]
    },
    {
      "cell_type": "code",
      "metadata": {
        "colab": {
          "base_uri": "https://localhost:8080/"
        },
        "id": "V920R2U8IEmm",
        "outputId": "ecbd8731-65aa-49b6-f717-d1cdce44913d"
      },
      "source": [
        "print(X_test)"
      ],
      "execution_count": null,
      "outputs": [
        {
          "output_type": "stream",
          "text": [
            "[['Patient 30' 56 1 1 38.4 1 0 0 94 124 18 3 1 94 21 137 91 1 7]\n",
            " ['Patient 12' 49 1 0 36.7 1 1 1 92 74 16 1 1 87 21 167 76 0 2]\n",
            " ['Patient 11' 52 0 0 38.0 1 0 0 93 66 22 3 0 93 21 150 82 0 0]\n",
            " ['Patient 23' 62 1 0 37.5 1 0 0 97 72 19 2 0 97 21 119 76 0 0]\n",
            " ['Patient 3' 58 1 0 37.5 1 0 0 94 82 16 1 0 94 21 110 70 1 0]\n",
            " ['Patient 29' 55 1 1 39.0 1 0 0 93 98 20 3 1 93 28 160 90 0 4]\n",
            " ['Patient 46' 57 1 1 38.0 1 0 0 97 71 16 3 1 97 21 140 88 1 2]\n",
            " ['Patient 33' 59 1 1 39.0 1 0 0 95 115 14 3 1 95 21 119 83 1 8]\n",
            " ['Patient 27' 57 1 1 36.4 0 0 0 98 101 18 3 0 98 26 116 71 1 0]\n",
            " ['Patient 5' 40 1 1 38.0 1 1 0 98 90 15 2 0 98 21 115 70 0 0]\n",
            " ['Patient 34' 51 1 1 36.8 1 0 0 97 95 22 2 0 97 21 128 50 0 0]\n",
            " ['Patient 42' 56 1 1 37.5 1 1 0 99 76 14 1 1 99 21 153 98 0 5]\n",
            " ['Patient 28' 60 1 1 38.4 0 1 0 97 100 18 3 1 97 31 196 112 0 4]]\n"
          ],
          "name": "stdout"
        }
      ]
    },
    {
      "cell_type": "code",
      "metadata": {
        "colab": {
          "base_uri": "https://localhost:8080/"
        },
        "id": "qVH47Cj9IKdB",
        "outputId": "0ccc1c89-452d-479c-f32c-4c86fb33bee9"
      },
      "source": [
        "print(y_test)"
      ],
      "execution_count": null,
      "outputs": [
        {
          "output_type": "stream",
          "text": [
            "[1 1 1 1 1 3 3 1 1 1 1 3 2]\n"
          ],
          "name": "stdout"
        }
      ]
    },
    {
      "cell_type": "code",
      "metadata": {
        "colab": {
          "base_uri": "https://localhost:8080/",
          "height": 270
        },
        "id": "At4exYZqIjBZ",
        "outputId": "1c9d92ac-fa95-4e69-b372-3808cd6350cb"
      },
      "source": [
        "df['Case'],_ = pd.factorize(df['Case'])\r\n",
        "df['Age'],_ = pd.factorize(df['Age'])\r\n",
        "df['Smoking '],_ = pd.factorize(df['Smoking '])\r\n",
        "df['COVID-19'],_ = pd.factorize(df['COVID-19'])\r\n",
        "df['Temperature '],_ = pd.factorize(df['Temperature '])\r\n",
        "df['Cough'],_ = pd.factorize(df['Cough'])\r\n",
        "df['Headache'],_ = pd.factorize(df['Headache'])\r\n",
        "df['Sore throat'],_ = pd.factorize(df['Sore throat'])\r\n",
        "df['Oxigen saturation (%)'],_ = pd.factorize(df['Oxigen saturation (%)'])\r\n",
        "df['Heartrateminute'],_ = pd.factorize(df['Heartrateminute'])\r\n",
        "df['Respiratory ratw (breaths minute)'],_ = pd.factorize(df['Respiratory ratw (breaths minute)'])\r\n",
        "df['Critical status'],_ = pd.factorize(df['Critical status'])\r\n",
        "df['ICU'],_ = pd.factorize(df['ICU'])\r\n",
        "df['Oxigen  (%)'],_ = pd.factorize(df['Oxigen  (%)'])\r\n",
        "df['Frac oxygen  (%)'],_ = pd.factorize(df['Frac oxygen  (%)'])\r\n",
        "df['Systolic b.p (mmHg) '],_ = pd.factorize(df['Systolic b.p (mmHg) '])\r\n",
        "df['Diastolic b.p (mmHg)'],_ = pd.factorize(df['Diastolic b.p (mmHg)'])\r\n",
        "df['Bilateral pulmonary '],_ = pd.factorize(df['Bilateral pulmonary '])\r\n",
        "df['Length of ICU stay (days)'],_ = pd.factorize(df['Length of ICU stay (days)'])\r\n",
        "df['Outcome'],_ = pd.factorize(df['Outcome'])\r\n",
        "df.head()"
      ],
      "execution_count": null,
      "outputs": [
        {
          "output_type": "execute_result",
          "data": {
            "text/html": [
              "<div>\n",
              "<style scoped>\n",
              "    .dataframe tbody tr th:only-of-type {\n",
              "        vertical-align: middle;\n",
              "    }\n",
              "\n",
              "    .dataframe tbody tr th {\n",
              "        vertical-align: top;\n",
              "    }\n",
              "\n",
              "    .dataframe thead th {\n",
              "        text-align: right;\n",
              "    }\n",
              "</style>\n",
              "<table border=\"1\" class=\"dataframe\">\n",
              "  <thead>\n",
              "    <tr style=\"text-align: right;\">\n",
              "      <th></th>\n",
              "      <th>Case</th>\n",
              "      <th>Age</th>\n",
              "      <th>Smoking</th>\n",
              "      <th>COVID-19</th>\n",
              "      <th>Temperature</th>\n",
              "      <th>Cough</th>\n",
              "      <th>Headache</th>\n",
              "      <th>Sore throat</th>\n",
              "      <th>Oxigen saturation (%)</th>\n",
              "      <th>Heartrateminute</th>\n",
              "      <th>Respiratory ratw (breaths minute)</th>\n",
              "      <th>Critical status</th>\n",
              "      <th>ICU</th>\n",
              "      <th>Oxigen  (%)</th>\n",
              "      <th>Frac oxygen  (%)</th>\n",
              "      <th>Systolic b.p (mmHg)</th>\n",
              "      <th>Diastolic b.p (mmHg)</th>\n",
              "      <th>Bilateral pulmonary</th>\n",
              "      <th>Length of ICU stay (days)</th>\n",
              "      <th>Outcome</th>\n",
              "    </tr>\n",
              "  </thead>\n",
              "  <tbody>\n",
              "    <tr>\n",
              "      <th>0</th>\n",
              "      <td>0</td>\n",
              "      <td>0</td>\n",
              "      <td>0</td>\n",
              "      <td>0</td>\n",
              "      <td>0</td>\n",
              "      <td>0</td>\n",
              "      <td>0</td>\n",
              "      <td>0</td>\n",
              "      <td>0</td>\n",
              "      <td>0</td>\n",
              "      <td>0</td>\n",
              "      <td>0</td>\n",
              "      <td>0</td>\n",
              "      <td>0</td>\n",
              "      <td>0</td>\n",
              "      <td>0</td>\n",
              "      <td>0</td>\n",
              "      <td>0</td>\n",
              "      <td>0</td>\n",
              "      <td>0</td>\n",
              "    </tr>\n",
              "    <tr>\n",
              "      <th>1</th>\n",
              "      <td>1</td>\n",
              "      <td>1</td>\n",
              "      <td>0</td>\n",
              "      <td>0</td>\n",
              "      <td>1</td>\n",
              "      <td>1</td>\n",
              "      <td>1</td>\n",
              "      <td>1</td>\n",
              "      <td>1</td>\n",
              "      <td>1</td>\n",
              "      <td>1</td>\n",
              "      <td>1</td>\n",
              "      <td>1</td>\n",
              "      <td>1</td>\n",
              "      <td>1</td>\n",
              "      <td>1</td>\n",
              "      <td>1</td>\n",
              "      <td>1</td>\n",
              "      <td>1</td>\n",
              "      <td>0</td>\n",
              "    </tr>\n",
              "    <tr>\n",
              "      <th>2</th>\n",
              "      <td>2</td>\n",
              "      <td>2</td>\n",
              "      <td>0</td>\n",
              "      <td>1</td>\n",
              "      <td>2</td>\n",
              "      <td>0</td>\n",
              "      <td>1</td>\n",
              "      <td>1</td>\n",
              "      <td>2</td>\n",
              "      <td>2</td>\n",
              "      <td>0</td>\n",
              "      <td>0</td>\n",
              "      <td>0</td>\n",
              "      <td>2</td>\n",
              "      <td>0</td>\n",
              "      <td>2</td>\n",
              "      <td>0</td>\n",
              "      <td>1</td>\n",
              "      <td>0</td>\n",
              "      <td>0</td>\n",
              "    </tr>\n",
              "    <tr>\n",
              "      <th>3</th>\n",
              "      <td>3</td>\n",
              "      <td>3</td>\n",
              "      <td>0</td>\n",
              "      <td>0</td>\n",
              "      <td>3</td>\n",
              "      <td>0</td>\n",
              "      <td>1</td>\n",
              "      <td>1</td>\n",
              "      <td>3</td>\n",
              "      <td>3</td>\n",
              "      <td>1</td>\n",
              "      <td>2</td>\n",
              "      <td>1</td>\n",
              "      <td>3</td>\n",
              "      <td>0</td>\n",
              "      <td>2</td>\n",
              "      <td>2</td>\n",
              "      <td>1</td>\n",
              "      <td>2</td>\n",
              "      <td>0</td>\n",
              "    </tr>\n",
              "    <tr>\n",
              "      <th>4</th>\n",
              "      <td>4</td>\n",
              "      <td>4</td>\n",
              "      <td>0</td>\n",
              "      <td>0</td>\n",
              "      <td>4</td>\n",
              "      <td>0</td>\n",
              "      <td>0</td>\n",
              "      <td>1</td>\n",
              "      <td>4</td>\n",
              "      <td>4</td>\n",
              "      <td>2</td>\n",
              "      <td>2</td>\n",
              "      <td>0</td>\n",
              "      <td>4</td>\n",
              "      <td>0</td>\n",
              "      <td>3</td>\n",
              "      <td>0</td>\n",
              "      <td>0</td>\n",
              "      <td>0</td>\n",
              "      <td>0</td>\n",
              "    </tr>\n",
              "  </tbody>\n",
              "</table>\n",
              "</div>"
            ],
            "text/plain": [
              "   Case  Age  ...  Length of ICU stay (days)  Outcome\n",
              "0     0    0  ...                          0        0\n",
              "1     1    1  ...                          1        0\n",
              "2     2    2  ...                          0        0\n",
              "3     3    3  ...                          2        0\n",
              "4     4    4  ...                          0        0\n",
              "\n",
              "[5 rows x 20 columns]"
            ]
          },
          "metadata": {
            "tags": []
          },
          "execution_count": 15
        }
      ]
    },
    {
      "cell_type": "code",
      "metadata": {
        "id": "UlRLvBOKJRRY"
      },
      "source": [
        "X = df.iloc[:, :-1].values\r\n",
        "y = df.iloc[:, -1].values"
      ],
      "execution_count": null,
      "outputs": []
    },
    {
      "cell_type": "code",
      "metadata": {
        "id": "2zzbspGCJSqU"
      },
      "source": [
        "from sklearn.model_selection import train_test_split\r\n",
        "X_train, X_test, y_train, y_test = train_test_split(X, y, test_size = 0.25, random_state = 0)"
      ],
      "execution_count": null,
      "outputs": []
    },
    {
      "cell_type": "code",
      "metadata": {
        "id": "LXddo_p3IOLW"
      },
      "source": [
        "from sklearn.preprocessing import StandardScaler\r\n",
        "sc = StandardScaler()\r\n"
      ],
      "execution_count": null,
      "outputs": []
    },
    {
      "cell_type": "code",
      "metadata": {
        "id": "nkwBJn9hIRkc"
      },
      "source": [
        "X_train = sc.fit_transform(X_train)\r\n"
      ],
      "execution_count": null,
      "outputs": []
    },
    {
      "cell_type": "code",
      "metadata": {
        "id": "ePfGJCwsIaDF"
      },
      "source": [
        "X_test = sc.transform(X_test)"
      ],
      "execution_count": null,
      "outputs": []
    },
    {
      "cell_type": "code",
      "metadata": {
        "colab": {
          "base_uri": "https://localhost:8080/"
        },
        "id": "CX1OflcjJdGD",
        "outputId": "e3d07169-5272-4a5f-81f8-1df8316263ba"
      },
      "source": [
        "print(X_train)"
      ],
      "execution_count": null,
      "outputs": [
        {
          "output_type": "stream",
          "text": [
            "[[ 0.62957897 -1.06587742 -0.85280287 -0.5976143   1.59777978 -0.51639778\n",
            "   0.67936622 -1.67332005 -0.97576395 -1.48001867 -1.2182173   1.49916736\n",
            "  -0.89973541 -0.97220185 -0.42785922  1.02519177  1.11137737 -1.11143786\n",
            "  -0.75897093]\n",
            " [ 0.56403376  0.86285315  1.17260394 -0.5976143   1.45182874 -0.51639778\n",
            "   0.67936622  0.5976143   1.92103529  0.94495387 -0.0751986   1.49916736\n",
            "   1.11143786  1.59982583 -0.42785922  0.94403076  1.35201748  0.89973541\n",
            "   1.16375542]\n",
            " [-1.20568684 -0.8247861  -0.85280287 -0.5976143  -0.29958371 -0.51639778\n",
            "   0.67936622 -1.67332005 -0.39640411 -0.82714144 -0.0751986   0.23320381\n",
            "  -0.89973541 -0.50456045 -0.42785922 -1.00383361 -0.69342349  0.89973541\n",
            "  -0.75897093]\n",
            " [-0.74687039 -0.34260346 -0.85280287 -0.5976143   0.1382694  -0.51639778\n",
            "   0.67936622 -1.67332005 -0.68608403 -0.2675324   0.78206542  1.49916736\n",
            "  -0.89973541 -0.73838115 -0.42785922 -0.51686752  0.02849686  0.89973541\n",
            "  -0.75897093]\n",
            " [ 1.35057625  0.86285315 -0.85280287  1.67332005 -1.0293389   1.93649167\n",
            "  -1.47196014 -1.67332005  1.63135536 -1.10694597  1.0678201   0.23320381\n",
            "  -0.89973541  1.36600513 -0.42785922  1.43099685  2.07393783  0.89973541\n",
            "  -0.75897093]\n",
            " [-0.48468956  0.13957919 -0.85280287 -0.5976143   0.57612252  1.93649167\n",
            "  -1.47196014  0.5976143  -0.10672418  0.01227213  1.0678201  -1.03275974\n",
            "   1.11143786 -0.27073976 -0.42785922 -0.27338447 -0.9340636  -1.11143786\n",
            "   0.77921015]\n",
            " [ 1.48166666  1.70667277  1.17260394  1.67332005  2.03563289 -0.51639778\n",
            "   0.67936622  0.5976143   1.34167544  1.5978311   1.92508412 -1.03275974\n",
            "  -0.89973541  1.13218443 -0.42785922  1.59331888 -0.69342349  0.89973541\n",
            "  -0.75897093]\n",
            " [ 1.08839542 -0.10151214 -0.85280287 -0.5976143  -1.0293389  -0.51639778\n",
            "   0.67936622  0.5976143  -0.10672418  1.41129475  1.0678201  -1.03275974\n",
            "  -0.89973541 -0.27073976 -0.42785922 -1.00383361 -1.17470372 -1.11143786\n",
            "  -0.75897093]\n",
            " [-0.68132518 -0.2220578  -0.85280287 -0.5976143   0.28422044 -0.51639778\n",
            "   0.67936622  0.5976143   1.05199551 -1.10694597 -0.36095327 -1.03275974\n",
            "  -0.89973541  0.89836373 -0.42785922 -0.4357065   0.02849686  0.89973541\n",
            "  -0.75897093]\n",
            " [ 0.36739814  1.10394447  1.17260394 -0.5976143  -0.44553475 -0.51639778\n",
            "   0.67936622 -1.67332005  1.63135536  0.75841752 -0.0751986  -1.03275974\n",
            "  -0.89973541  1.36600513 -0.42785922  0.78170873  1.11137737 -1.11143786\n",
            "  -0.75897093]\n",
            " [ 0.30185293  0.98339881 -0.85280287 -0.5976143   0.1382694  -0.51639778\n",
            "   0.67936622  0.5976143   1.34167544  0.66514935  0.78206542 -1.03275974\n",
            "  -0.89973541  1.13218443 -0.42785922  0.70054771 -0.69342349 -1.11143786\n",
            "  -0.75897093]\n",
            " [-0.61577997 -0.10151214 -0.85280287  1.67332005  0.43017148  1.93649167\n",
            "  -1.47196014  0.5976143  -0.39640411 -0.17426422  1.0678201  -1.03275974\n",
            "  -0.89973541 -0.50456045 -0.42785922 -0.35454549  0.14881691 -1.11143786\n",
            "  -0.75897093]\n",
            " [ 1.15394062  1.46558145  1.17260394  1.67332005  1.74373082 -0.51639778\n",
            "  -1.47196014 -1.67332005  1.34167544  1.50456292 -0.36095327  1.49916736\n",
            "  -0.89973541  1.83364653 -0.42785922  1.34983584  0.7504172  -1.11143786\n",
            "  -0.75897093]\n",
            " [-0.35359914 -1.30696874 -0.85280287 -0.5976143  -1.0293389  -0.51639778\n",
            "   0.67936622 -1.67332005  1.05199551 -1.10694597  0.78206542  1.49916736\n",
            "   1.11143786  0.89836373  3.44324801 -0.11106244 -0.69342349  0.89973541\n",
            "   1.93284596]\n",
            " [ 1.61275707  0.62176183  1.17260394 -0.5976143  -0.73743682 -0.51639778\n",
            "   0.67936622  0.5976143   0.76231559  0.8516857  -1.2182173   1.49916736\n",
            "   1.11143786  0.66454304 -0.42785922  1.75564091 -1.17470372  0.89973541\n",
            "   0.39466488]\n",
            " [-1.14014163 -1.4275144  -0.85280287 -0.5976143  -0.15363267 -0.51639778\n",
            "   0.67936622  0.5976143  -1.26544388 -0.73387327  0.21055608  0.23320381\n",
            "   1.11143786 -1.20602255  1.89480512 -0.9226726  -0.9340636  -1.11143786\n",
            "   0.01011961]\n",
            " [-0.8124156  -0.46314912  1.17260394  1.67332005 -0.73743682  1.93649167\n",
            "  -1.47196014  0.5976143  -0.68608403 -0.36080057  0.49631075  1.49916736\n",
            "   1.11143786  0.66454304 -0.42785922 -0.59802853 -0.0918232  -1.11143786\n",
            "   0.01011961]\n",
            " [-0.02587311  0.62176183 -0.85280287 -0.5976143   0.86802459 -0.51639778\n",
            "  -1.47196014  0.5976143  -1.26544388  0.01227213 -0.36095327 -1.03275974\n",
            "  -0.89973541 -1.20602255 -0.42785922  0.29474264  0.7504172   0.89973541\n",
            "  -0.75897093]\n",
            " [-1.33677725 -1.06587742 -0.85280287 -0.5976143  -0.59148578 -0.51639778\n",
            "   0.67936622  0.5976143   0.18295574 -1.01367779 -0.36095327  0.23320381\n",
            "   1.11143786 -0.03691906  1.12058367 -1.40963869 -1.17470372  0.89973541\n",
            "   0.39466488]\n",
            " [-0.55023477  0.01903353  1.17260394 -0.5976143  -0.88338786 -0.51639778\n",
            "  -1.47196014  0.5976143  -1.26544388 -0.08099605 -0.36095327  0.23320381\n",
            "   1.11143786 -1.20602255 -0.42785922 -1.00383361 -1.17470372  0.89973541\n",
            "   1.54830069]\n",
            " [ 0.76066938  1.22449013  1.17260394 -0.5976143   1.3058777  -0.51639778\n",
            "  -1.47196014  0.5976143  -0.10672418 -0.92040962  1.0678201  -1.03275974\n",
            "   1.11143786 -0.27073976 -0.42785922  1.18751381  1.47233754 -1.11143786\n",
            "   0.77921015]\n",
            " [ 0.957305   -0.10151214  1.17260394  1.67332005  1.74373082 -0.51639778\n",
            "   0.67936622  0.5976143  -1.26544388  1.2247584  -1.2182173   0.23320381\n",
            "  -0.89973541 -1.20602255 -0.42785922 -1.00383361 -0.81374354 -1.11143786\n",
            "  -0.75897093]\n",
            " [-1.59895808 -1.54806006 -0.85280287 -0.5976143  -1.17528993  1.93649167\n",
            "   0.67936622  0.5976143  -0.97576395 -1.38675049 -0.93246262  0.23320381\n",
            "   1.11143786 -0.97220185  0.34636223 -1.32847767 -1.05438366  0.89973541\n",
            "  -0.37442566]\n",
            " [-0.8779608  -0.58369478  1.17260394 -0.5976143  -0.00768163 -0.51639778\n",
            "   0.67936622  0.5976143  -0.39640411 -0.45406874 -0.0751986   0.23320381\n",
            "   1.11143786 -0.50456045 -0.42785922 -1.00383361 -0.21214326  0.89973541\n",
            "   1.16375542]\n",
            " [ 0.82621459 -1.4275144  -0.85280287 -0.5976143   0.43017148 -0.51639778\n",
            "   0.67936622  0.5976143  -0.97576395  1.03822205  1.0678201  -1.03275974\n",
            "   1.11143786 -0.97220185 -0.42785922 -0.84151158  1.5926576   0.89973541\n",
            "   0.39466488]\n",
            " [-0.09141832  0.50121617 -0.85280287 -0.5976143  -1.17528993 -0.51639778\n",
            "   0.67936622  0.5976143   0.76231559  0.38534483 -1.2182173   0.23320381\n",
            "   1.11143786  0.66454304  1.12058367  0.21358162  0.63009714  0.89973541\n",
            "   1.54830069]\n",
            " [-1.27123205 -0.94533176 -0.85280287  1.67332005 -0.44553475  1.93649167\n",
            "   0.67936622  0.5976143  -0.10672418 -0.92040962 -0.93246262 -1.03275974\n",
            "  -0.89973541 -0.27073976 -0.42785922 -1.08499463 -0.81374354 -1.11143786\n",
            "  -0.75897093]\n",
            " [-0.15696352  0.38067051  1.17260394 -0.5976143  -0.29958371 -0.51639778\n",
            "  -1.47196014 -1.67332005  0.18295574 -1.01367779  0.78206542  0.23320381\n",
            "   1.11143786 -0.03691906  2.66902656  0.1324206   0.50977708  0.89973541\n",
            "   2.31739123]\n",
            " [ 0.69512417  0.86285315 -0.85280287 -0.5976143  -0.73743682 -0.51639778\n",
            "   0.67936622  0.5976143  -1.26544388  0.75841752 -1.2182173   0.23320381\n",
            "  -0.89973541 -1.20602255 -0.42785922  1.10635279 -0.9340636   0.89973541\n",
            "  -0.75897093]\n",
            " [-0.28805394  0.26012485  1.17260394 -0.5976143   0.72207355  1.93649167\n",
            "   0.67936622  0.5976143   1.34167544  0.19880848 -1.2182173  -1.03275974\n",
            "  -0.89973541  1.13218443 -0.42785922 -0.02990143  0.38945703  0.89973541\n",
            "  -0.75897093]\n",
            " [-0.41914435 -1.30696874 -0.85280287 -0.5976143   0.28422044 -0.51639778\n",
            "   0.67936622  0.5976143  -1.26544388  0.1055403  -0.93246262 -1.03275974\n",
            "  -0.89973541 -1.20602255  2.66902656 -0.19222346  0.26913697  0.89973541\n",
            "  -0.75897093]\n",
            " [-1.07459643 -0.70424044 -0.85280287 -0.5976143  -1.17528993 -0.51639778\n",
            "   0.67936622  0.5976143   0.47263567 -1.10694597 -1.2182173   1.49916736\n",
            "  -0.89973541  0.19690164 -0.42785922 -0.84151158 -0.57310343 -1.11143786\n",
            "  -0.75897093]\n",
            " [ 0.89175979  1.34503579  1.17260394  1.67332005  0.57612252 -0.51639778\n",
            "   0.67936622  0.5976143  -0.39640411  1.13149022  0.49631075 -1.03275974\n",
            "   1.11143786 -0.73838115 -0.42785922  0.05125959  0.38945703 -1.11143786\n",
            "   1.93284596]\n",
            " [ 1.54721187  1.10394447  1.17260394  1.67332005 -1.0293389  -0.51639778\n",
            "  -1.47196014  0.5976143  -0.10672418  1.69109927  2.2108388  -1.03275974\n",
            "  -0.89973541 -0.73838115 -0.42785922  1.6744799  -0.45278337 -1.11143786\n",
            "  -0.75897093]\n",
            " [-1.46786767 -1.30696874 -0.85280287 -0.5976143  -0.88338786 -0.51639778\n",
            "   0.67936622  0.5976143  -0.39640411 -1.20021414 -0.93246262  1.49916736\n",
            "   1.11143786 -0.50456045 -0.42785922 -1.24731666 -0.9340636   0.89973541\n",
            "   0.01011961]\n",
            " [-1.66450329 -1.66860572 -0.85280287 -0.5976143  -1.32124097 -0.51639778\n",
            "  -1.47196014 -1.67332005 -1.26544388 -1.48001867 -1.2182173  -1.03275974\n",
            "  -0.89973541 -1.20602255 -0.42785922 -1.40963869 -1.17470372 -1.11143786\n",
            "  -0.75897093]\n",
            " [ 1.41612145  1.58612711  1.17260394 -0.5976143   1.88968185  1.93649167\n",
            "  -1.47196014  0.5976143   1.34167544  1.2247584   1.63932945  0.23320381\n",
            "   1.11143786  1.13218443 -0.42785922  1.51215787  1.95361777  0.89973541\n",
            "   1.93284596]\n",
            " [ 1.21948583  0.86285315  1.17260394  1.67332005 -1.0293389  -0.51639778\n",
            "   0.67936622 -1.67332005 -0.68608403  1.2247584  -0.93246262  0.23320381\n",
            "  -0.89973541  2.06746722 -0.42785922  0.86286974  1.83329771 -1.11143786\n",
            "  -0.75897093]]\n"
          ],
          "name": "stdout"
        }
      ]
    },
    {
      "cell_type": "code",
      "metadata": {
        "colab": {
          "base_uri": "https://localhost:8080/"
        },
        "id": "6mZGoyGFJnKt",
        "outputId": "cad4c637-e69a-402e-d3c7-310d65d0ac4d"
      },
      "source": [
        "print(X_test)"
      ],
      "execution_count": null,
      "outputs": [
        {
          "output_type": "stream",
          "text": [
            "[[ 0.23630772  0.86285315 -0.85280287 -0.5976143   1.15992667 -0.51639778\n",
            "   0.67936622  0.5976143  -0.68608403 -0.82714144 -0.93246262  0.23320381\n",
            "   1.11143786 -0.73838115 -0.42785922  0.6193867   0.63009714  0.89973541\n",
            "   1.16375542]\n",
            " [-0.94350601 -1.06587742 -0.85280287  1.67332005 -0.44553475 -0.51639778\n",
            "  -1.47196014 -1.67332005  0.76231559 -0.54733692 -1.2182173  -1.03275974\n",
            "   1.11143786  0.43072234 -0.42785922 -0.67918955 -0.33246332 -1.11143786\n",
            "   0.77921015]\n",
            " [-1.00905122 -1.54806006  1.17260394  1.67332005 -0.73743682 -0.51639778\n",
            "   0.67936622  0.5976143   0.18295574 -0.64060509 -0.36095327  0.23320381\n",
            "  -0.89973541 -0.03691906 -0.42785922 -0.76035057 -0.45278337 -1.11143786\n",
            "  -0.75897093]\n",
            " [-0.22250873 -0.34260346 -0.85280287  1.67332005 -1.0293389  -0.51639778\n",
            "   0.67936622  0.5976143   1.34167544  0.29207665  1.35357477  1.49916736\n",
            "  -0.89973541  1.13218443 -0.42785922  0.05125959 -0.33246332 -1.11143786\n",
            "  -0.75897093]\n",
            " [-1.53341288 -1.4275144  -0.85280287  1.67332005 -1.0293389  -0.51639778\n",
            "   0.67936622  0.5976143  -0.68608403 -1.29348232 -1.2182173  -1.03275974\n",
            "  -0.89973541 -0.73838115 -0.42785922 -1.24731666 -1.17470372  0.89973541\n",
            "  -0.75897093]\n",
            " [ 0.17076251 -1.30696874 -0.85280287 -0.5976143  -0.00768163 -0.51639778\n",
            "   0.67936622  0.5976143   0.18295574  0.57188118  0.78206542  0.23320381\n",
            "   1.11143786 -0.03691906  2.66902656  0.53822568 -0.81374354 -1.11143786\n",
            "  -0.37442566]\n",
            " [ 1.28503104  0.74230749 -0.85280287 -0.5976143  -0.73743682 -0.51639778\n",
            "   0.67936622  0.5976143   1.34167544 -0.36080057 -1.2182173   0.23320381\n",
            "   1.11143786  1.13218443 -0.42785922 -0.27338447  1.95361777  0.89973541\n",
            "   0.77921015]\n",
            " [ 0.43294334 -1.66860572 -0.85280287 -0.5976143  -0.00768163 -0.51639778\n",
            "   0.67936622  0.5976143  -1.26544388 -1.38675049  1.0678201   0.23320381\n",
            "   1.11143786 -1.20602255 -0.42785922  0.05125959  0.7504172   0.89973541\n",
            "   2.7019365 ]\n",
            " [ 0.0396721   0.74230749 -0.85280287 -0.5976143   1.01397563  1.93649167\n",
            "   0.67936622  0.5976143  -0.10672418  0.478613   -0.93246262  0.23320381\n",
            "  -0.89973541 -0.27073976  4.21746945  0.37590365  0.87073726  0.89973541\n",
            "  -0.75897093]\n",
            " [-1.40232246 -1.18642308 -0.85280287 -0.5976143  -0.73743682 -0.51639778\n",
            "  -1.47196014  0.5976143  -0.10672418 -1.10694597 -0.64670795  1.49916736\n",
            "  -0.89973541 -0.27073976 -0.42785922 -1.16615564 -1.17470372 -1.11143786\n",
            "  -0.75897093]\n",
            " [ 0.49848855 -0.8247861  -0.85280287 -0.5976143   1.3058777  -0.51639778\n",
            "   0.67936622  0.5976143   1.34167544  0.8516857  -0.36095327  1.49916736\n",
            "  -0.89973541  1.13218443 -0.42785922  0.86286974  1.23169743 -1.11143786\n",
            "  -0.75897093]\n",
            " [ 1.02285021  0.86285315 -0.85280287 -0.5976143  -1.0293389  -0.51639778\n",
            "  -1.47196014  0.5976143  -0.97576395  1.31802657  1.0678201  -1.03275974\n",
            "   1.11143786 -0.97220185 -0.42785922  1.26867482  1.71297765 -1.11143786\n",
            "   1.54830069]\n",
            " [ 0.10521731 -0.10151214 -0.85280287 -0.5976143   1.15992667  1.93649167\n",
            "  -1.47196014  0.5976143   1.34167544 -1.01367779 -0.93246262  0.23320381\n",
            "   1.11143786  1.13218443  4.9916909   0.45706467  0.99105731 -1.11143786\n",
            "  -0.37442566]]\n"
          ],
          "name": "stdout"
        }
      ]
    },
    {
      "cell_type": "code",
      "metadata": {
        "colab": {
          "base_uri": "https://localhost:8080/"
        },
        "id": "dVb5c42CJtfq",
        "outputId": "47055a7f-d469-434d-edc9-802c3321cf7c"
      },
      "source": [
        "from sklearn.naive_bayes import GaussianNB\r\n",
        "classifier = GaussianNB()\r\n",
        "classifier.fit(X_train, y_train)"
      ],
      "execution_count": null,
      "outputs": [
        {
          "output_type": "execute_result",
          "data": {
            "text/plain": [
              "GaussianNB(priors=None, var_smoothing=1e-09)"
            ]
          },
          "metadata": {
            "tags": []
          },
          "execution_count": 26
        }
      ]
    },
    {
      "cell_type": "code",
      "metadata": {
        "colab": {
          "base_uri": "https://localhost:8080/"
        },
        "id": "N2Ex6jMYJyXw",
        "outputId": "b3c83bdd-2390-438c-900b-8f4ae24d69a8"
      },
      "source": [
        "y_pred = classifier.predict(X_test)\r\n",
        "print(np.concatenate((y_pred.reshape(len(y_pred),1), y_test.reshape(len(y_test),1)),1))"
      ],
      "execution_count": null,
      "outputs": [
        {
          "output_type": "stream",
          "text": [
            "[[2 0]\n",
            " [0 0]\n",
            " [0 0]\n",
            " [0 0]\n",
            " [0 0]\n",
            " [1 1]\n",
            " [2 1]\n",
            " [2 0]\n",
            " [1 0]\n",
            " [1 0]\n",
            " [1 0]\n",
            " [1 1]\n",
            " [1 2]]\n"
          ],
          "name": "stdout"
        }
      ]
    },
    {
      "cell_type": "code",
      "metadata": {
        "colab": {
          "base_uri": "https://localhost:8080/"
        },
        "id": "7c9wulefJ5TG",
        "outputId": "c3126a09-347a-41af-82ab-da8e6f01a6fe"
      },
      "source": [
        "from sklearn.metrics import confusion_matrix, accuracy_score\r\n",
        "cm = confusion_matrix(y_test, y_pred)\r\n",
        "print(cm)\r\n",
        "accuracy_score(y_test, y_pred)"
      ],
      "execution_count": null,
      "outputs": [
        {
          "output_type": "stream",
          "text": [
            "[[4 3 2]\n",
            " [0 2 1]\n",
            " [0 1 0]]\n"
          ],
          "name": "stdout"
        },
        {
          "output_type": "execute_result",
          "data": {
            "text/plain": [
              "0.46153846153846156"
            ]
          },
          "metadata": {
            "tags": []
          },
          "execution_count": 28
        }
      ]
    },
    {
      "cell_type": "code",
      "metadata": {
        "colab": {
          "base_uri": "https://localhost:8080/",
          "height": 351
        },
        "id": "D2DtwGMhLV2e",
        "outputId": "5224d53d-f776-494e-af50-6f20ee0fe983"
      },
      "source": [
        "from matplotlib.colors import ListedColormap\r\n",
        "X_set, y_set = sc.inverse_transform(X_train), y_train\r\n",
        "X1, X2 = np.meshgrid(np.arange(start = X_set[:, 0].min() - 10, stop = X_set[:, 0].max() + 10, step = 0.25),\r\n",
        "                     np.arange(start = X_set[:, 1].min() - 130, stop = X_set[:, 1].max() + 130, step = 0.25))\r\n",
        "\r\n",
        "plt.xlim(X1.min(), X1.max())\r\n",
        "plt.ylim(X2.min(), X2.max())\r\n",
        "for i, j in enumerate(np.unique(y_set)):\r\n",
        "    plt.scatter(X_set[y_set == j, 0], X_set[y_set == j, 1], c = ListedColormap(('red', 'green','blue'))(i), label = j)\r\n",
        "plt.title('Naive Bayes (Training set)')\r\n",
        "plt.xlabel('Age')\r\n",
        "plt.ylabel('Heartrateminute')\r\n",
        "plt.legend()\r\n",
        "plt.show()"
      ],
      "execution_count": null,
      "outputs": [
        {
          "output_type": "stream",
          "text": [
            "*c* argument looks like a single numeric RGB or RGBA sequence, which should be avoided as value-mapping will have precedence in case its length matches with *x* & *y*.  Please use the *color* keyword-argument or provide a 2-D array with a single row if you intend to specify the same RGB or RGBA value for all points.\n",
            "*c* argument looks like a single numeric RGB or RGBA sequence, which should be avoided as value-mapping will have precedence in case its length matches with *x* & *y*.  Please use the *color* keyword-argument or provide a 2-D array with a single row if you intend to specify the same RGB or RGBA value for all points.\n"
          ],
          "name": "stderr"
        },
        {
          "output_type": "display_data",
          "data": {
            "image/png": "[encoded data removed]",
            "text/plain": [
              "<Figure size 432x288 with 1 Axes>"
            ]
          },
          "metadata": {
            "tags": [],
            "needs_background": "light"
          }
        }
      ]
    },
    {
      "cell_type": "code",
      "metadata": {
        "colab": {
          "base_uri": "https://localhost:8080/",
          "height": 369
        },
        "id": "PLof8Z7JJ_sJ",
        "outputId": "1a744f35-c63a-4ebc-a30b-b4a1b7f3243e"
      },
      "source": [
        "from matplotlib.colors import ListedColormap\r\n",
        "X_set, y_set = sc.inverse_transform(X_test), y_test\r\n",
        "X1, X2 = np.meshgrid(np.arange(start = X_set[:, 0].min() - 10, stop = X_set[:, 0].max() + 10, step = 0.25),\r\n",
        "                     np.arange(start = X_set[:, 1].min() - 100, stop = X_set[:, 1].max() + 100, step = 0.25))\r\n",
        "\r\n",
        "plt.xlim(X1.min(), X1.max())\r\n",
        "plt.ylim(X2.min(), X2.max())\r\n",
        "for i, j in enumerate(np.unique(y_set)):\r\n",
        "    plt.scatter(X_set[y_set == j, 0], X_set[y_set == j, 1], c = ListedColormap(('red', 'green','blue'))(i), label = j)\r\n",
        "plt.title('Naive Bayes (Test set)')\r\n",
        "plt.xlabel('Age')\r\n",
        "plt.ylabel('Heartrateminute')\r\n",
        "plt.legend()\r\n",
        "plt.show()"
      ],
      "execution_count": null,
      "outputs": [
        {
          "output_type": "stream",
          "text": [
            "*c* argument looks like a single numeric RGB or RGBA sequence, which should be avoided as value-mapping will have precedence in case its length matches with *x* & *y*.  Please use the *color* keyword-argument or provide a 2-D array with a single row if you intend to specify the same RGB or RGBA value for all points.\n",
            "*c* argument looks like a single numeric RGB or RGBA sequence, which should be avoided as value-mapping will have precedence in case its length matches with *x* & *y*.  Please use the *color* keyword-argument or provide a 2-D array with a single row if you intend to specify the same RGB or RGBA value for all points.\n",
            "*c* argument looks like a single numeric RGB or RGBA sequence, which should be avoided as value-mapping will have precedence in case its length matches with *x* & *y*.  Please use the *color* keyword-argument or provide a 2-D array with a single row if you intend to specify the same RGB or RGBA value for all points.\n"
          ],
          "name": "stderr"
        },
        {
          "output_type": "display_data",
          "data": {
            "image/png": "[encoded data removed]",
            "text/plain": [
              "<Figure size 432x288 with 1 Axes>"
            ]
          },
          "metadata": {
            "tags": [],
            "needs_background": "light"
          }
        }
      ]
    },
    {
      "cell_type": "code",
      "metadata": {
        "id": "eLc5fW4dKUm6"
      },
      "source": [
        ""
      ],
      "execution_count": null,
      "outputs": []
    }
  ]
}