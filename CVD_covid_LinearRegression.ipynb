{
  "nbformat": 4,
  "nbformat_minor": 0,
  "metadata": {
    "colab": {
      "name": "CVD_covid_LinearRegression.ipynb",
      "provenance": [],
      "collapsed_sections": [],
      "authorship_tag": "ABX9TyPvJs7GAJ1BuIoAcJOO5X3K",
      "include_colab_link": true
    },
    "kernelspec": {
      "name": "python3",
      "display_name": "Python 3"
    }
  },
  "cells": [
    {
      "cell_type": "markdown",
      "metadata": {
        "id": "view-in-github",
        "colab_type": "text"
      },
      "source": [
        "<a href=\"https://colab.research.google.com/github/chirudukuru/cvd-Covid19/blob/main/CVD_covid_LinearRegression.ipynb\" target=\"_parent\"><img src=\"https://colab.research.google.com/assets/colab-badge.svg\" alt=\"Open In Colab\"/></a>"
      ]
    },
    {
      "cell_type": "code",
      "metadata": {
        "id": "mG5Nm6FlFnjn"
      },
      "source": [
        "import pandas as pd\r\n",
        "import numpy as np"
      ],
      "execution_count": null,
      "outputs": []
    },
    {
      "cell_type": "code",
      "metadata": {
        "colab": {
          "resources": {
            "http://localhost:8080/nbextensions/google.colab/files.js": {
              "data": "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",
              "ok": true,
              "headers": [
                [
                  "content-type",
                  "application/javascript"
                ]
              ],
              "status": 200,
              "status_text": ""
            }
          },
          "base_uri": "https://localhost:8080/",
          "height": 72
        },
        "id": "fP6lVQgbFtin",
        "outputId": "b5990f7a-c577-4253-aaf7-d8a8be429d33"
      },
      "source": [
        "from google.colab import files\r\n",
        "uploaded = files.upload()"
      ],
      "execution_count": null,
      "outputs": [
        {
          "output_type": "display_data",
          "data": {
            "text/html": [
              "\n",
              "     <input type=\"file\" id=\"files-ec017882-fef5-4bf1-89de-7cfd24fabfb6\" name=\"files[]\" multiple disabled\n",
              "        style=\"border:none\" />\n",
              "     <output id=\"result-ec017882-fef5-4bf1-89de-7cfd24fabfb6\">\n",
              "      Upload widget is only available when the cell has been executed in the\n",
              "      current browser session. Please rerun this cell to enable.\n",
              "      </output>\n",
              "      <script src=\"/nbextensions/google.colab/files.js\"></script> "
            ],
            "text/plain": [
              "<IPython.core.display.HTML object>"
            ]
          },
          "metadata": {
            "tags": []
          }
        },
        {
          "output_type": "stream",
          "text": [
            "Saving cardiovascularcovid.csv to cardiovascularcovid (1).csv\n"
          ],
          "name": "stdout"
        }
      ]
    },
    {
      "cell_type": "code",
      "metadata": {
        "id": "fvYd1h3mF6Pz"
      },
      "source": [
        "import io\r\n",
        "df = pd.read_csv(io.BytesIO(uploaded['cardiovascularcovid.csv']))"
      ],
      "execution_count": null,
      "outputs": []
    },
    {
      "cell_type": "code",
      "metadata": {
        "colab": {
          "base_uri": "https://localhost:8080/",
          "height": 360
        },
        "id": "X7_e42x0Hgsf",
        "outputId": "5d8fc82e-a82c-4c1e-a0b3-c4bac9719cc9"
      },
      "source": [
        "df.head()"
      ],
      "execution_count": null,
      "outputs": [
        {
          "output_type": "execute_result",
          "data": {
            "text/html": [
              "<div>\n",
              "<style scoped>\n",
              "    .dataframe tbody tr th:only-of-type {\n",
              "        vertical-align: middle;\n",
              "    }\n",
              "\n",
              "    .dataframe tbody tr th {\n",
              "        vertical-align: top;\n",
              "    }\n",
              "\n",
              "    .dataframe thead th {\n",
              "        text-align: right;\n",
              "    }\n",
              "</style>\n",
              "<table border=\"1\" class=\"dataframe\">\n",
              "  <thead>\n",
              "    <tr style=\"text-align: right;\">\n",
              "      <th></th>\n",
              "      <th>Case</th>\n",
              "      <th>Age</th>\n",
              "      <th>Smoking</th>\n",
              "      <th>COVID-19</th>\n",
              "      <th>Temperature</th>\n",
              "      <th>Cough</th>\n",
              "      <th>Headache</th>\n",
              "      <th>Sore throat</th>\n",
              "      <th>Oxigen saturation (%)</th>\n",
              "      <th>Heartrateminute</th>\n",
              "      <th>Respiratory ratw (breaths minute)</th>\n",
              "      <th>Critical status</th>\n",
              "      <th>ICU</th>\n",
              "      <th>Oxigen  (%)</th>\n",
              "      <th>Frac oxygen  (%)</th>\n",
              "      <th>Systolic b.p (mmHg)</th>\n",
              "      <th>Diastolic b.p (mmHg)</th>\n",
              "      <th>Bilateral pulmonary</th>\n",
              "      <th>Length of ICU stay (days)</th>\n",
              "      <th>Outcome</th>\n",
              "    </tr>\n",
              "  </thead>\n",
              "  <tbody>\n",
              "    <tr>\n",
              "      <th>0</th>\n",
              "      <td>Patient 1</td>\n",
              "      <td>59</td>\n",
              "      <td>1</td>\n",
              "      <td>1</td>\n",
              "      <td>36.2</td>\n",
              "      <td>1</td>\n",
              "      <td>1</td>\n",
              "      <td>1</td>\n",
              "      <td>95</td>\n",
              "      <td>80</td>\n",
              "      <td>16</td>\n",
              "      <td>1</td>\n",
              "      <td>0</td>\n",
              "      <td>95</td>\n",
              "      <td>21</td>\n",
              "      <td>120</td>\n",
              "      <td>70</td>\n",
              "      <td>0</td>\n",
              "      <td>0</td>\n",
              "      <td>1</td>\n",
              "    </tr>\n",
              "    <tr>\n",
              "      <th>1</th>\n",
              "      <td>Patient 2</td>\n",
              "      <td>52</td>\n",
              "      <td>1</td>\n",
              "      <td>1</td>\n",
              "      <td>37.8</td>\n",
              "      <td>0</td>\n",
              "      <td>0</td>\n",
              "      <td>0</td>\n",
              "      <td>99</td>\n",
              "      <td>115</td>\n",
              "      <td>18</td>\n",
              "      <td>3</td>\n",
              "      <td>1</td>\n",
              "      <td>99</td>\n",
              "      <td>24</td>\n",
              "      <td>70</td>\n",
              "      <td>40</td>\n",
              "      <td>1</td>\n",
              "      <td>4</td>\n",
              "      <td>1</td>\n",
              "    </tr>\n",
              "    <tr>\n",
              "      <th>2</th>\n",
              "      <td>Patient 3</td>\n",
              "      <td>58</td>\n",
              "      <td>1</td>\n",
              "      <td>0</td>\n",
              "      <td>37.5</td>\n",
              "      <td>1</td>\n",
              "      <td>0</td>\n",
              "      <td>0</td>\n",
              "      <td>94</td>\n",
              "      <td>82</td>\n",
              "      <td>16</td>\n",
              "      <td>1</td>\n",
              "      <td>0</td>\n",
              "      <td>94</td>\n",
              "      <td>21</td>\n",
              "      <td>110</td>\n",
              "      <td>70</td>\n",
              "      <td>1</td>\n",
              "      <td>0</td>\n",
              "      <td>1</td>\n",
              "    </tr>\n",
              "    <tr>\n",
              "      <th>3</th>\n",
              "      <td>Patient 4</td>\n",
              "      <td>55</td>\n",
              "      <td>1</td>\n",
              "      <td>1</td>\n",
              "      <td>39.5</td>\n",
              "      <td>1</td>\n",
              "      <td>0</td>\n",
              "      <td>0</td>\n",
              "      <td>96</td>\n",
              "      <td>89</td>\n",
              "      <td>18</td>\n",
              "      <td>2</td>\n",
              "      <td>1</td>\n",
              "      <td>96</td>\n",
              "      <td>21</td>\n",
              "      <td>110</td>\n",
              "      <td>80</td>\n",
              "      <td>1</td>\n",
              "      <td>1</td>\n",
              "      <td>1</td>\n",
              "    </tr>\n",
              "    <tr>\n",
              "      <th>4</th>\n",
              "      <td>Patient 5</td>\n",
              "      <td>40</td>\n",
              "      <td>1</td>\n",
              "      <td>1</td>\n",
              "      <td>38.0</td>\n",
              "      <td>1</td>\n",
              "      <td>1</td>\n",
              "      <td>0</td>\n",
              "      <td>98</td>\n",
              "      <td>90</td>\n",
              "      <td>15</td>\n",
              "      <td>2</td>\n",
              "      <td>0</td>\n",
              "      <td>98</td>\n",
              "      <td>21</td>\n",
              "      <td>115</td>\n",
              "      <td>70</td>\n",
              "      <td>0</td>\n",
              "      <td>0</td>\n",
              "      <td>1</td>\n",
              "    </tr>\n",
              "  </tbody>\n",
              "</table>\n",
              "</div>"
            ],
            "text/plain": [
              "         Case  Age  ...  Length of ICU stay (days)  Outcome\n",
              "0  Patient 1    59  ...                          0        1\n",
              "1   Patient 2   52  ...                          4        1\n",
              "2   Patient 3   58  ...                          0        1\n",
              "3   Patient 4   55  ...                          1        1\n",
              "4   Patient 5   40  ...                          0        1\n",
              "\n",
              "[5 rows x 20 columns]"
            ]
          },
          "metadata": {
            "tags": []
          },
          "execution_count": 23
        }
      ]
    },
    {
      "cell_type": "code",
      "metadata": {
        "id": "TONdj0_THigb"
      },
      "source": [
        "import matplotlib.pyplot as plt\r\n",
        "import seaborn as seabornInstance \r\n",
        "from sklearn.model_selection import train_test_split \r\n",
        "from sklearn.linear_model import LinearRegression\r\n",
        "from sklearn import metrics\r\n",
        "%matplotlib inline"
      ],
      "execution_count": null,
      "outputs": []
    },
    {
      "cell_type": "code",
      "metadata": {
        "colab": {
          "base_uri": "https://localhost:8080/"
        },
        "id": "GnizNL7NIFV5",
        "outputId": "7e847e1e-1089-4c7c-8c68-f529c63b9435"
      },
      "source": [
        "df.shape"
      ],
      "execution_count": null,
      "outputs": [
        {
          "output_type": "execute_result",
          "data": {
            "text/plain": [
              "(51, 20)"
            ]
          },
          "metadata": {
            "tags": []
          },
          "execution_count": 26
        }
      ]
    },
    {
      "cell_type": "code",
      "metadata": {
        "colab": {
          "base_uri": "https://localhost:8080/",
          "height": 368
        },
        "id": "qWZce6zXIMfc",
        "outputId": "800015bd-e922-41b4-f8af-3ed41394f042"
      },
      "source": [
        "df.describe()"
      ],
      "execution_count": null,
      "outputs": [
        {
          "output_type": "execute_result",
          "data": {
            "text/html": [
              "<div>\n",
              "<style scoped>\n",
              "    .dataframe tbody tr th:only-of-type {\n",
              "        vertical-align: middle;\n",
              "    }\n",
              "\n",
              "    .dataframe tbody tr th {\n",
              "        vertical-align: top;\n",
              "    }\n",
              "\n",
              "    .dataframe thead th {\n",
              "        text-align: right;\n",
              "    }\n",
              "</style>\n",
              "<table border=\"1\" class=\"dataframe\">\n",
              "  <thead>\n",
              "    <tr style=\"text-align: right;\">\n",
              "      <th></th>\n",
              "      <th>Age</th>\n",
              "      <th>Smoking</th>\n",
              "      <th>COVID-19</th>\n",
              "      <th>Temperature</th>\n",
              "      <th>Cough</th>\n",
              "      <th>Headache</th>\n",
              "      <th>Sore throat</th>\n",
              "      <th>Oxigen saturation (%)</th>\n",
              "      <th>Heartrateminute</th>\n",
              "      <th>Respiratory ratw (breaths minute)</th>\n",
              "      <th>Critical status</th>\n",
              "      <th>ICU</th>\n",
              "      <th>Oxigen  (%)</th>\n",
              "      <th>Frac oxygen  (%)</th>\n",
              "      <th>Systolic b.p (mmHg)</th>\n",
              "      <th>Diastolic b.p (mmHg)</th>\n",
              "      <th>Bilateral pulmonary</th>\n",
              "      <th>Length of ICU stay (days)</th>\n",
              "      <th>Outcome</th>\n",
              "    </tr>\n",
              "  </thead>\n",
              "  <tbody>\n",
              "    <tr>\n",
              "      <th>count</th>\n",
              "      <td>51.000000</td>\n",
              "      <td>51.000000</td>\n",
              "      <td>51.000000</td>\n",
              "      <td>51.000000</td>\n",
              "      <td>51.000000</td>\n",
              "      <td>51.000000</td>\n",
              "      <td>51.000000</td>\n",
              "      <td>51.000000</td>\n",
              "      <td>51.000000</td>\n",
              "      <td>51.000000</td>\n",
              "      <td>51.000000</td>\n",
              "      <td>51.000000</td>\n",
              "      <td>51.000000</td>\n",
              "      <td>51.000000</td>\n",
              "      <td>51.000000</td>\n",
              "      <td>51.000000</td>\n",
              "      <td>51.000000</td>\n",
              "      <td>51.000000</td>\n",
              "      <td>51.000000</td>\n",
              "    </tr>\n",
              "    <tr>\n",
              "      <th>mean</th>\n",
              "      <td>53.294118</td>\n",
              "      <td>0.666667</td>\n",
              "      <td>0.725490</td>\n",
              "      <td>37.700000</td>\n",
              "      <td>0.803922</td>\n",
              "      <td>0.313725</td>\n",
              "      <td>0.215686</td>\n",
              "      <td>95.098039</td>\n",
              "      <td>89.882353</td>\n",
              "      <td>18.333333</td>\n",
              "      <td>2.019608</td>\n",
              "      <td>0.470588</td>\n",
              "      <td>94.627451</td>\n",
              "      <td>23.647059</td>\n",
              "      <td>130.862745</td>\n",
              "      <td>77.196078</td>\n",
              "      <td>0.509804</td>\n",
              "      <td>2.019608</td>\n",
              "      <td>1.411765</td>\n",
              "    </tr>\n",
              "    <tr>\n",
              "      <th>std</th>\n",
              "      <td>9.521122</td>\n",
              "      <td>0.476095</td>\n",
              "      <td>0.450708</td>\n",
              "      <td>0.983056</td>\n",
              "      <td>0.400979</td>\n",
              "      <td>0.468623</td>\n",
              "      <td>0.415390</td>\n",
              "      <td>3.971171</td>\n",
              "      <td>16.376382</td>\n",
              "      <td>5.286461</td>\n",
              "      <td>0.882954</td>\n",
              "      <td>0.504101</td>\n",
              "      <td>4.204573</td>\n",
              "      <td>7.317988</td>\n",
              "      <td>23.031300</td>\n",
              "      <td>12.457961</td>\n",
              "      <td>0.504878</td>\n",
              "      <td>2.686933</td>\n",
              "      <td>0.753033</td>\n",
              "    </tr>\n",
              "    <tr>\n",
              "      <th>min</th>\n",
              "      <td>31.000000</td>\n",
              "      <td>0.000000</td>\n",
              "      <td>0.000000</td>\n",
              "      <td>35.500000</td>\n",
              "      <td>0.000000</td>\n",
              "      <td>0.000000</td>\n",
              "      <td>0.000000</td>\n",
              "      <td>79.000000</td>\n",
              "      <td>65.000000</td>\n",
              "      <td>5.000000</td>\n",
              "      <td>1.000000</td>\n",
              "      <td>0.000000</td>\n",
              "      <td>79.000000</td>\n",
              "      <td>21.000000</td>\n",
              "      <td>70.000000</td>\n",
              "      <td>40.000000</td>\n",
              "      <td>0.000000</td>\n",
              "      <td>0.000000</td>\n",
              "      <td>1.000000</td>\n",
              "    </tr>\n",
              "    <tr>\n",
              "      <th>25%</th>\n",
              "      <td>49.000000</td>\n",
              "      <td>0.000000</td>\n",
              "      <td>0.000000</td>\n",
              "      <td>37.000000</td>\n",
              "      <td>1.000000</td>\n",
              "      <td>0.000000</td>\n",
              "      <td>0.000000</td>\n",
              "      <td>94.000000</td>\n",
              "      <td>75.500000</td>\n",
              "      <td>16.000000</td>\n",
              "      <td>1.000000</td>\n",
              "      <td>0.000000</td>\n",
              "      <td>93.000000</td>\n",
              "      <td>21.000000</td>\n",
              "      <td>118.500000</td>\n",
              "      <td>70.000000</td>\n",
              "      <td>0.000000</td>\n",
              "      <td>0.000000</td>\n",
              "      <td>1.000000</td>\n",
              "    </tr>\n",
              "    <tr>\n",
              "      <th>50%</th>\n",
              "      <td>55.000000</td>\n",
              "      <td>1.000000</td>\n",
              "      <td>1.000000</td>\n",
              "      <td>37.700000</td>\n",
              "      <td>1.000000</td>\n",
              "      <td>0.000000</td>\n",
              "      <td>0.000000</td>\n",
              "      <td>96.000000</td>\n",
              "      <td>90.000000</td>\n",
              "      <td>18.000000</td>\n",
              "      <td>2.000000</td>\n",
              "      <td>0.000000</td>\n",
              "      <td>95.000000</td>\n",
              "      <td>21.000000</td>\n",
              "      <td>130.000000</td>\n",
              "      <td>76.000000</td>\n",
              "      <td>1.000000</td>\n",
              "      <td>0.000000</td>\n",
              "      <td>1.000000</td>\n",
              "    </tr>\n",
              "    <tr>\n",
              "      <th>75%</th>\n",
              "      <td>59.000000</td>\n",
              "      <td>1.000000</td>\n",
              "      <td>1.000000</td>\n",
              "      <td>38.350000</td>\n",
              "      <td>1.000000</td>\n",
              "      <td>1.000000</td>\n",
              "      <td>0.000000</td>\n",
              "      <td>97.500000</td>\n",
              "      <td>100.000000</td>\n",
              "      <td>22.000000</td>\n",
              "      <td>3.000000</td>\n",
              "      <td>1.000000</td>\n",
              "      <td>97.000000</td>\n",
              "      <td>21.000000</td>\n",
              "      <td>141.000000</td>\n",
              "      <td>83.500000</td>\n",
              "      <td>1.000000</td>\n",
              "      <td>4.000000</td>\n",
              "      <td>1.500000</td>\n",
              "    </tr>\n",
              "    <tr>\n",
              "      <th>max</th>\n",
              "      <td>75.000000</td>\n",
              "      <td>1.000000</td>\n",
              "      <td>1.000000</td>\n",
              "      <td>39.500000</td>\n",
              "      <td>1.000000</td>\n",
              "      <td>1.000000</td>\n",
              "      <td>1.000000</td>\n",
              "      <td>100.000000</td>\n",
              "      <td>124.000000</td>\n",
              "      <td>43.000000</td>\n",
              "      <td>3.000000</td>\n",
              "      <td>1.000000</td>\n",
              "      <td>100.000000</td>\n",
              "      <td>60.000000</td>\n",
              "      <td>196.000000</td>\n",
              "      <td>112.000000</td>\n",
              "      <td>1.000000</td>\n",
              "      <td>9.000000</td>\n",
              "      <td>3.000000</td>\n",
              "    </tr>\n",
              "  </tbody>\n",
              "</table>\n",
              "</div>"
            ],
            "text/plain": [
              "             Age   Smoking   ...  Length of ICU stay (days)    Outcome\n",
              "count  51.000000  51.000000  ...                  51.000000  51.000000\n",
              "mean   53.294118   0.666667  ...                   2.019608   1.411765\n",
              "std     9.521122   0.476095  ...                   2.686933   0.753033\n",
              "min    31.000000   0.000000  ...                   0.000000   1.000000\n",
              "25%    49.000000   0.000000  ...                   0.000000   1.000000\n",
              "50%    55.000000   1.000000  ...                   0.000000   1.000000\n",
              "75%    59.000000   1.000000  ...                   4.000000   1.500000\n",
              "max    75.000000   1.000000  ...                   9.000000   3.000000\n",
              "\n",
              "[8 rows x 19 columns]"
            ]
          },
          "metadata": {
            "tags": []
          },
          "execution_count": 27
        }
      ]
    },
    {
      "cell_type": "code",
      "metadata": {
        "colab": {
          "base_uri": "https://localhost:8080/",
          "height": 295
        },
        "id": "msDh7Di2IQkF",
        "outputId": "b5f87835-4f48-44a0-dc85-fa49bd02fa90"
      },
      "source": [
        "df.plot(x='Age', y='Heartrateminute', style='o')  \r\n",
        "plt.title('Heart rate minute vs age')  \r\n",
        "plt.xlabel('Age')  \r\n",
        "plt.ylabel('Heartrateminute')  \r\n",
        "plt.show()"
      ],
      "execution_count": null,
      "outputs": [
        {
          "output_type": "display_data",
          "data": {
            "image/png": "[encoded data removed]",
            "text/plain": [
              "<Figure size 432x288 with 1 Axes>"
            ]
          },
          "metadata": {
            "tags": [],
            "needs_background": "light"
          }
        }
      ]
    },
    {
      "cell_type": "code",
      "metadata": {
        "colab": {
          "base_uri": "https://localhost:8080/",
          "height": 1000
        },
        "id": "E9UEXvt2Im-D",
        "outputId": "828e975a-a5db-40e5-e96b-a77e83163de8"
      },
      "source": [
        "plt.figure(figsize=(10,50))\r\n",
        "plt.tight_layout()\r\n",
        "seabornInstance.distplot(df['Age'])"
      ],
      "execution_count": null,
      "outputs": [
        {
          "output_type": "stream",
          "text": [
            "/usr/local/lib/python3.6/dist-packages/seaborn/distributions.py:2557: FutureWarning: `distplot` is a deprecated function and will be removed in a future version. Please adapt your code to use either `displot` (a figure-level function with similar flexibility) or `histplot` (an axes-level function for histograms).\n",
            "  warnings.warn(msg, FutureWarning)\n"
          ],
          "name": "stderr"
        },
        {
          "output_type": "execute_result",
          "data": {
            "text/plain": [
              "<matplotlib.axes._subplots.AxesSubplot at 0x7f15c0da7438>"
            ]
          },
          "metadata": {
            "tags": []
          },
          "execution_count": 29
        },
        {
          "output_type": "display_data",
          "data": {
            "image/png": "[encoded data removed]",
            "text/plain": [
              "<Figure size 720x3600 with 1 Axes>"
            ]
          },
          "metadata": {
            "tags": [],
            "needs_background": "light"
          }
        }
      ]
    },
    {
      "cell_type": "code",
      "metadata": {
        "id": "a4-SHAd_L3wT"
      },
      "source": [
        "X = df['Age'].values.reshape(3,17)\r\n",
        "y = df['Heartrateminute'].values.reshape(3,17)"
      ],
      "execution_count": null,
      "outputs": []
    },
    {
      "cell_type": "code",
      "metadata": {
        "id": "sQWHV4ZkML2J"
      },
      "source": [
        "X_train, X_test, y_train, y_test = train_test_split(X, y, test_size=0.2, random_state=0)"
      ],
      "execution_count": null,
      "outputs": []
    },
    {
      "cell_type": "code",
      "metadata": {
        "id": "Mq-LpoboMPDX"
      },
      "source": [
        "regressor = LinearRegression()  \r\n"
      ],
      "execution_count": null,
      "outputs": []
    },
    {
      "cell_type": "code",
      "metadata": {
        "colab": {
          "base_uri": "https://localhost:8080/"
        },
        "id": "rJNF2pSqMRgz",
        "outputId": "b541b759-1449-40fc-e162-fac9d65e8bb0"
      },
      "source": [
        "regressor.fit(X_train, y_train)"
      ],
      "execution_count": null,
      "outputs": [
        {
          "output_type": "execute_result",
          "data": {
            "text/plain": [
              "LinearRegression(copy_X=True, fit_intercept=True, n_jobs=None, normalize=False)"
            ]
          },
          "metadata": {
            "tags": []
          },
          "execution_count": 33
        }
      ]
    },
    {
      "cell_type": "code",
      "metadata": {
        "colab": {
          "base_uri": "https://localhost:8080/"
        },
        "id": "tbHF7pCNMaE9",
        "outputId": "011b4831-b70a-4d7c-9d23-b538b19cdd02"
      },
      "source": [
        "print(regressor.intercept_)"
      ],
      "execution_count": null,
      "outputs": [
        {
          "output_type": "stream",
          "text": [
            "[ 90.50647333 108.76178146  88.56654583  89.32832729  85.73174521\n",
            "  90.80683584  85.22320041 119.40341792 110.10512688  93.61160021\n",
            "  77.16312791  81.879855   116.61160021  83.14810979  90.28327292\n",
            "  98.20818229  77.53650958]\n"
          ],
          "name": "stdout"
        }
      ]
    },
    {
      "cell_type": "code",
      "metadata": {
        "colab": {
          "base_uri": "https://localhost:8080/"
        },
        "id": "7MDu0Zd3M7ci",
        "outputId": "b7e16950-fbc9-49dc-f291-254df45cbf81"
      },
      "source": [
        "print(regressor.coef_)"
      ],
      "execution_count": null,
      "outputs": [
        {
          "output_type": "stream",
          "text": [
            "[[-0.22371828  0.11600207 -0.02485759  0.          0.29000518  0.10771621\n",
            "  -0.04971517  0.01657172  0.04971517 -0.08285862  0.0662869   0.04971517\n",
            "   0.08285862  0.03314345 -0.25686173 -0.08285862 -0.07457276]\n",
            " [ 0.13283273 -0.06887623  0.01475919  0.         -0.17219057 -0.0639565\n",
            "   0.02951838 -0.00983946 -0.02951838  0.04919731 -0.03935785 -0.02951838\n",
            "  -0.04919731 -0.01967892  0.15251165  0.04919731  0.04427758]\n",
            " [-0.13982393  0.07250129 -0.01553599  0.          0.18125324  0.06732263\n",
            "  -0.03107198  0.01035733  0.03107198 -0.05178664  0.04142931  0.03107198\n",
            "   0.05178664  0.02071466 -0.16053858 -0.05178664 -0.04660798]\n",
            " [-0.0069912   0.00362506 -0.0007768   0.          0.00906266  0.00336613\n",
            "  -0.0015536   0.00051787  0.0015536  -0.00258933  0.00207147  0.0015536\n",
            "   0.00258933  0.00103573 -0.00802693 -0.00258933 -0.0023304 ]\n",
            " [ 0.09088555 -0.04712584  0.01009839  0.         -0.1178146  -0.04375971\n",
            "   0.02019679 -0.00673226 -0.02019679  0.03366132 -0.02692905 -0.02019679\n",
            "  -0.03366132 -0.01346453  0.10435008  0.03366132  0.03029518]\n",
            " [ 0.1957535  -0.10150181  0.02175039  0.         -0.25375453 -0.09425168\n",
            "   0.04350078 -0.01450026 -0.04350078  0.07250129 -0.05800104 -0.04350078\n",
            "  -0.07250129 -0.02900052  0.22475401  0.07250129  0.06525117]\n",
            " [-0.15380632  0.07975142 -0.01708959  0.          0.19937856  0.07405489\n",
            "  -0.03417918  0.01139306  0.03417918 -0.0569653   0.04557224  0.03417918\n",
            "   0.0569653   0.02278612 -0.17659244 -0.0569653  -0.05126877]\n",
            " [ 0.09787675 -0.05075091  0.01087519  0.         -0.12687727 -0.04712584\n",
            "   0.02175039 -0.00725013 -0.02175039  0.03625065 -0.02900052 -0.02175039\n",
            "  -0.03625065 -0.01450026  0.11237701  0.03625065  0.03262558]\n",
            " [ 0.14681512 -0.07612636  0.01631279  0.         -0.1903159  -0.07068876\n",
            "   0.03262558 -0.01087519 -0.03262558  0.05437597 -0.04350078 -0.03262558\n",
            "  -0.05437597 -0.02175039  0.16856551  0.05437597  0.04893837]\n",
            " [-0.07690316  0.03987571 -0.0085448   0.          0.09968928  0.03702745\n",
            "  -0.01708959  0.00569653  0.01708959 -0.02848265  0.02278612  0.01708959\n",
            "   0.02848265  0.01139306 -0.08829622 -0.02848265 -0.02563439]\n",
            " [-0.23770067  0.1232522  -0.02641119  0.          0.3081305   0.11444847\n",
            "  -0.05282237  0.01760746  0.05282237 -0.08803729  0.07042983  0.05282237\n",
            "   0.08803729  0.03521491 -0.27291559 -0.08803729 -0.07923356]\n",
            " [-0.16778871  0.08700155 -0.01864319  0.          0.21750388  0.08078716\n",
            "  -0.03728638  0.01242879  0.03728638 -0.06214397  0.04971517  0.03728638\n",
            "   0.06214397  0.02485759 -0.1926463  -0.06214397 -0.05592957]\n",
            " [-0.07690316  0.03987571 -0.0085448   0.          0.09968928  0.03702745\n",
            "  -0.01708959  0.00569653  0.01708959 -0.02848265  0.02278612  0.01708959\n",
            "   0.02848265  0.01139306 -0.08829622 -0.02848265 -0.02563439]\n",
            " [-0.25867426  0.1341274  -0.02874158  0.          0.33531849  0.12454687\n",
            "  -0.05748317  0.01916106  0.05748317 -0.09580528  0.07664423  0.05748317\n",
            "   0.09580528  0.03832211 -0.29699637 -0.09580528 -0.08622475]\n",
            " [-0.06991196  0.03625065 -0.007768    0.          0.09062662  0.03366132\n",
            "  -0.01553599  0.00517866  0.01553599 -0.02589332  0.02071466  0.01553599\n",
            "   0.02589332  0.01035733 -0.08026929 -0.02589332 -0.02330399]\n",
            " [-0.17477991  0.09062662 -0.01941999  0.          0.22656655  0.08415329\n",
            "  -0.03883998  0.01294666  0.03883998 -0.0647333   0.05178664  0.03883998\n",
            "   0.0647333   0.02589332 -0.20067323 -0.0647333  -0.05825997]\n",
            " [-0.1817711   0.09425168 -0.02019679  0.          0.23562921  0.08751942\n",
            "  -0.04039358  0.01346453  0.04039358 -0.06732263  0.0538581   0.04039358\n",
            "   0.06732263  0.02692905 -0.20870016 -0.06732263 -0.06059037]]\n"
          ],
          "name": "stdout"
        }
      ]
    },
    {
      "cell_type": "code",
      "metadata": {
        "id": "W2JmcGn9M_12"
      },
      "source": [
        "y_pred = regressor.predict(X_test)"
      ],
      "execution_count": null,
      "outputs": []
    },
    {
      "cell_type": "code",
      "metadata": {
        "colab": {
          "base_uri": "https://localhost:8080/",
          "height": 576
        },
        "id": "P43cLAQSND9-",
        "outputId": "a2214273-7594-457a-e74f-95ff9a9d0ecb"
      },
      "source": [
        "df = pd.DataFrame({'Actual': y_test.flatten(), 'Predicted': y_pred.flatten()})\r\n",
        "df"
      ],
      "execution_count": null,
      "outputs": [
        {
          "output_type": "execute_result",
          "data": {
            "text/html": [
              "<div>\n",
              "<style scoped>\n",
              "    .dataframe tbody tr th:only-of-type {\n",
              "        vertical-align: middle;\n",
              "    }\n",
              "\n",
              "    .dataframe tbody tr th {\n",
              "        vertical-align: top;\n",
              "    }\n",
              "\n",
              "    .dataframe thead th {\n",
              "        text-align: right;\n",
              "    }\n",
              "</style>\n",
              "<table border=\"1\" class=\"dataframe\">\n",
              "  <thead>\n",
              "    <tr style=\"text-align: right;\">\n",
              "      <th></th>\n",
              "      <th>Actual</th>\n",
              "      <th>Predicted</th>\n",
              "    </tr>\n",
              "  </thead>\n",
              "  <tbody>\n",
              "    <tr>\n",
              "      <th>0</th>\n",
              "      <td>92</td>\n",
              "      <td>96.803729</td>\n",
              "    </tr>\n",
              "    <tr>\n",
              "      <th>1</th>\n",
              "      <td>80</td>\n",
              "      <td>105.022786</td>\n",
              "    </tr>\n",
              "    <tr>\n",
              "      <th>2</th>\n",
              "      <td>97</td>\n",
              "      <td>92.502330</td>\n",
              "    </tr>\n",
              "    <tr>\n",
              "      <th>3</th>\n",
              "      <td>78</td>\n",
              "      <td>89.525117</td>\n",
              "    </tr>\n",
              "    <tr>\n",
              "      <th>4</th>\n",
              "      <td>84</td>\n",
              "      <td>83.173485</td>\n",
              "    </tr>\n",
              "    <tr>\n",
              "      <th>5</th>\n",
              "      <td>73</td>\n",
              "      <td>85.296737</td>\n",
              "    </tr>\n",
              "    <tr>\n",
              "      <th>6</th>\n",
              "      <td>68</td>\n",
              "      <td>89.552563</td>\n",
              "    </tr>\n",
              "    <tr>\n",
              "      <th>7</th>\n",
              "      <td>76</td>\n",
              "      <td>116.648369</td>\n",
              "    </tr>\n",
              "    <tr>\n",
              "      <th>8</th>\n",
              "      <td>106</td>\n",
              "      <td>105.972553</td>\n",
              "    </tr>\n",
              "    <tr>\n",
              "      <th>9</th>\n",
              "      <td>75</td>\n",
              "      <td>95.776282</td>\n",
              "    </tr>\n",
              "    <tr>\n",
              "      <th>10</th>\n",
              "      <td>68</td>\n",
              "      <td>83.853962</td>\n",
              "    </tr>\n",
              "    <tr>\n",
              "      <th>11</th>\n",
              "      <td>71</td>\n",
              "      <td>86.602796</td>\n",
              "    </tr>\n",
              "    <tr>\n",
              "      <th>12</th>\n",
              "      <td>90</td>\n",
              "      <td>118.776282</td>\n",
              "    </tr>\n",
              "    <tr>\n",
              "      <th>13</th>\n",
              "      <td>68</td>\n",
              "      <td>90.429311</td>\n",
              "    </tr>\n",
              "    <tr>\n",
              "      <th>14</th>\n",
              "      <td>70</td>\n",
              "      <td>92.251165</td>\n",
              "    </tr>\n",
              "    <tr>\n",
              "      <th>15</th>\n",
              "      <td>65</td>\n",
              "      <td>103.127913</td>\n",
              "    </tr>\n",
              "    <tr>\n",
              "      <th>16</th>\n",
              "      <td>95</td>\n",
              "      <td>82.653030</td>\n",
              "    </tr>\n",
              "  </tbody>\n",
              "</table>\n",
              "</div>"
            ],
            "text/plain": [
              "    Actual   Predicted\n",
              "0       92   96.803729\n",
              "1       80  105.022786\n",
              "2       97   92.502330\n",
              "3       78   89.525117\n",
              "4       84   83.173485\n",
              "5       73   85.296737\n",
              "6       68   89.552563\n",
              "7       76  116.648369\n",
              "8      106  105.972553\n",
              "9       75   95.776282\n",
              "10      68   83.853962\n",
              "11      71   86.602796\n",
              "12      90  118.776282\n",
              "13      68   90.429311\n",
              "14      70   92.251165\n",
              "15      65  103.127913\n",
              "16      95   82.653030"
            ]
          },
          "metadata": {
            "tags": []
          },
          "execution_count": 41
        }
      ]
    },
    {
      "cell_type": "code",
      "metadata": {
        "colab": {
          "base_uri": "https://localhost:8080/",
          "height": 594
        },
        "id": "GqNM-U2CNGsO",
        "outputId": "10f8acf7-448e-44d6-c6e6-17d8d6cd66d9"
      },
      "source": [
        "df1 = df.head(25)\r\n",
        "df1.plot(kind='bar',figsize=(16,10))\r\n",
        "plt.grid(which='major', linestyle='-', linewidth='0.5', color='Blue')\r\n",
        "plt.grid(which='minor', linestyle=':', linewidth='0.5', color='Green')\r\n",
        "plt.show()"
      ],
      "execution_count": null,
      "outputs": [
        {
          "output_type": "display_data",
          "data": {
            "image/png": "[encoded data removed]",
            "text/plain": [
              "<Figure size 1152x720 with 1 Axes>"
            ]
          },
          "metadata": {
            "tags": [],
            "needs_background": "light"
          }
        }
      ]
    },
    {
      "cell_type": "code",
      "metadata": {
        "colab": {
          "base_uri": "https://localhost:8080/",
          "height": 265
        },
        "id": "WivD9-DUNdRR",
        "outputId": "a5bd52c8-1cd3-48b8-948c-44ce7a9638ce"
      },
      "source": [
        "plt.scatter(X_test, y_test,  color='blue')\r\n",
        "plt.plot(X_test, y_pred, color='red', linewidth=2)\r\n",
        "plt.show()"
      ],
      "execution_count": null,
      "outputs": [
        {
          "output_type": "display_data",
          "data": {
            "image/png": "[encoded data removed]",
            "text/plain": [
              "<Figure size 432x288 with 1 Axes>"
            ]
          },
          "metadata": {
            "tags": [],
            "needs_background": "light"
          }
        }
      ]
    },
    {
      "cell_type": "code",
      "metadata": {
        "colab": {
          "base_uri": "https://localhost:8080/"
        },
        "id": "8qTVAuWXNxb4",
        "outputId": "f409e08e-94ab-425f-a6b5-4229679fc12f"
      },
      "source": [
        "print('Mean Absolute Error:', metrics.mean_absolute_error(y_test, y_pred))  \r\n",
        "print('Mean Squared Error:', metrics.mean_squared_error(y_test, y_pred))  \r\n",
        "print('Root Mean Squared Error:', np.sqrt(metrics.mean_squared_error(y_test, y_pred)))"
      ],
      "execution_count": null,
      "outputs": [
        {
          "output_type": "stream",
          "text": [
            "Mean Absolute Error: 17.4920949218631\n",
            "Mean Squared Error: 437.0509937877645\n",
            "Root Mean Squared Error: 20.905764606628587\n"
          ],
          "name": "stdout"
        }
      ]
    },
    {
      "cell_type": "code",
      "metadata": {
        "id": "bLadjKP4N20k"
      },
      "source": [
        ""
      ],
      "execution_count": null,
      "outputs": []
    }
  ]
}